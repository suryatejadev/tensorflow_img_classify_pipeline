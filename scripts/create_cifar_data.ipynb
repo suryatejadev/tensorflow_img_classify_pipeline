{
 "cells": [
  {
   "cell_type": "code",
   "execution_count": 1,
   "metadata": {},
   "outputs": [],
   "source": [
    "from glob import glob\n",
    "import matplotlib\n",
    "matplotlib.use('Agg')\n",
    "import matplotlib.pyplot as plt\n",
    "import cPickle"
   ]
  },
  {
   "cell_type": "code",
   "execution_count": 2,
   "metadata": {},
   "outputs": [],
   "source": [
    "def unpickle(file):\n",
    "    with open(file, 'rb') as fo:\n",
    "        dict = cPickle.load(fo)\n",
    "    return dict"
   ]
  },
  {
   "cell_type": "code",
   "execution_count": 4,
   "metadata": {},
   "outputs": [
    {
     "name": "stderr",
     "output_type": "stream",
     "text": [
      "\r",
      "  0%|          | 0/50000 [00:00<?, ?it/s]"
     ]
    },
    {
     "name": "stdout",
     "output_type": "stream",
     "text": [
      "((50000, 3072), (50000,))\n"
     ]
    },
    {
     "name": "stderr",
     "output_type": "stream",
     "text": [
      "100%|██████████| 50000/50000 [00:24<00:00, 2014.14it/s]\n"
     ]
    }
   ],
   "source": [
    "from tqdm import tqdm\n",
    "import numpy as np\n",
    "from skimage.io import imsave\n",
    "import os\n",
    "import matplotlib.pyplot as plt\n",
    "\n",
    "data_path = '../data/cifar-10-batches-py/'\n",
    "paths = glob(data_path+'data_batch_*')\n",
    "data, labels = [], []\n",
    "for i, path in enumerate(paths):\n",
    "    data_batch = unpickle(path)\n",
    "    x, y = data_batch['data'], data_batch['labels']\n",
    "    data.append(x)\n",
    "    labels.append(y)\n",
    "data = np.concatenate(data, axis=0)\n",
    "labels = np.concatenate(labels)\n",
    "print(data.shape, labels.shape)\n",
    "\n",
    "output_dir = '../data/cifar10/'\n",
    "for i in tqdm(range(data.shape[0])):\n",
    "    img_flat = data[i, :]\n",
    "    img_R = img_flat[0:1024].reshape((32, 32))\n",
    "    img_G = img_flat[1024:2048].reshape((32, 32))\n",
    "    img_B = img_flat[2048:3072].reshape((32, 32))\n",
    "    img = np.dstack((img_R, img_G, img_B))\n",
    "    label = labels[i]\n",
    "    name = str(i) + '_' + str(label) + '.jpg'\n",
    "    imsave(os.path.join(output_dir, name), img)"
   ]
  }
 ],
 "metadata": {
  "kernelspec": {
   "display_name": "Python 2",
   "language": "python",
   "name": "python2"
  },
  "language_info": {
   "codemirror_mode": {
    "name": "ipython",
    "version": 2
   },
   "file_extension": ".py",
   "mimetype": "text/x-python",
   "name": "python",
   "nbconvert_exporter": "python",
   "pygments_lexer": "ipython2",
   "version": "2.7.15"
  }
 },
 "nbformat": 4,
 "nbformat_minor": 2
}
