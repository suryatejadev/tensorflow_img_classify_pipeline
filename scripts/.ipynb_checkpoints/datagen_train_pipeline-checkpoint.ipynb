{
 "cells": [
  {
   "cell_type": "code",
   "execution_count": 1,
   "metadata": {},
   "outputs": [
    {
     "data": {
      "text/plain": [
       "'1.13.1'"
      ]
     },
     "execution_count": 1,
     "metadata": {},
     "output_type": "execute_result"
    }
   ],
   "source": [
    "from glob import glob\n",
    "import os\n",
    "import matplotlib.pyplot as plt\n",
    "import cv2\n",
    "from time import time\n",
    "\n",
    "import tensorflow as tf\n",
    "# tf.enable_eager_execution()\n",
    "tf.VERSION"
   ]
  },
  {
   "cell_type": "code",
   "execution_count": 16,
   "metadata": {},
   "outputs": [
    {
     "name": "stdout",
     "output_type": "stream",
     "text": [
      "('Train data : ', 100000, 100000, 199, 0)\n",
      "(['../data/tiny-imagenet-200/train/n02124075/images/n02124075_0.JPEG', '../data/tiny-imagenet-200/train/n02124075/images/n02124075_1.JPEG', '../data/tiny-imagenet-200/train/n02124075/images/n02124075_10.JPEG'], [0, 0, 0])\n",
      "\n",
      "\n",
      "('Validation data : ', 10000, 10000, 199, 0)\n",
      "(['../data/tiny-imagenet-200/val/images/val_0.JPEG', '../data/tiny-imagenet-200/val/images/val_1.JPEG', '../data/tiny-imagenet-200/val/images/val_10.JPEG'], [48, 138, 157])\n",
      "\n",
      "\n",
      "(64, 64, 3)\n"
     ]
    },
    {
     "data": {
      "image/png": "[encoded data removed]",
      "text/plain": [
       "<matplotlib.figure.Figure at 0x7f65f82c0f10>"
      ]
     },
     "metadata": {},
     "output_type": "display_data"
    }
   ],
   "source": [
    "# Get train data paths and labels\n",
    "# output : 4 lists - train_paths, train_labels, val_paths, val_labels\n",
    "import pandas as pd\n",
    "\n",
    "train_dir = '../data/tiny-imagenet-200/train/'\n",
    "train_folders = os.listdir(train_dir)\n",
    "train_paths, train_labels = [], []\n",
    "label_dict = {}\n",
    "for i, folder in enumerate(train_folders):\n",
    "    label_dict[folder] = i\n",
    "    paths = glob(os.path.join(train_dir, folder, 'images/*.JPEG'))\n",
    "    train_paths += paths\n",
    "    train_labels += [i]*len(paths)\n",
    "print('Train data : ', len(train_paths), len(train_labels), max(train_labels), min(train_labels))\n",
    "print(train_paths[:3], train_labels[:3])\n",
    "print('\\n')\n",
    "\n",
    "# Get validation data paths and labels\n",
    "val_dir = '../data/tiny-imagenet-200/val/images/'\n",
    "val_paths = glob(val_dir + '*.JPEG')\n",
    "df_annot = pd.read_csv('../data/tiny-imagenet-200/val/val_annotations.txt', \\\n",
    "                      header=None, sep='\\t')\n",
    "df_annot = df_annot.set_index(0)\n",
    "val_labels = []\n",
    "for path in val_paths:\n",
    "    name = os.path.basename(path)\n",
    "    folder = df_annot.loc[name].iloc[0]\n",
    "    val_labels.append(label_dict[folder])\n",
    "print('Validation data : ', len(val_paths), len(val_labels), max(val_labels), min(val_labels))\n",
    "print(val_paths[:3], val_labels[:3])\n",
    "print('\\n')\n",
    "\n",
    "# Display an image\n",
    "img = cv2.imread(val_paths[1])\n",
    "print(img.shape)\n",
    "plt.imshow(img)\n",
    "plt.show()"
   ]
  },
  {
   "cell_type": "code",
   "execution_count": 18,
   "metadata": {},
   "outputs": [
    {
     "name": "stdout",
     "output_type": "stream",
     "text": [
      "0\n"
     ]
    }
   ],
   "source": [
    "from tqdm import tqdm\n",
    "\n",
    "count = 0\n",
    "for path in tqdm(train_paths):\n",
    "    img = cv2.imread(path)\n",
    "    if img.shape[2] != 3:\n",
    "        count += 1\n",
    "print(count)        \n",
    "count = 0\n",
    "for path in tqdm(val_paths):\n",
    "    img = cv2.imread(path)\n",
    "    if img.shape[2] != 3:\n",
    "        count += 1\n",
    "print(count)        "
   ]
  },
  {
   "cell_type": "code",
   "execution_count": 17,
   "metadata": {},
   "outputs": [
    {
     "name": "stdout",
     "output_type": "stream",
     "text": [
      "('epoch = ', 0)\n",
      "Training\n",
      "(4, 224, 224, 3)\n",
      "(4, 224, 224, 3)\n",
      "(4, 224, 224, 3)\n",
      "Validation\n",
      "(4, 224, 224, 3)\n",
      "(4, 224, 224, 3)\n",
      "(4, 224, 224, 3)\n"
     ]
    }
   ],
   "source": [
    "# Training pipeline including datagen, preprocessing and data aug\n",
    "batch_size = 4\n",
    "\n",
    "# Preprocess data\n",
    "def preprocess_data(path):#, label):\n",
    "    img = tf.read_file(path)\n",
    "    img = tf.image.decode_jpeg(img)\n",
    "    img = tf.image.resize_images(img, [224, 224])\n",
    "    img = img/255.0\n",
    "    return img#, label\n",
    "\n",
    "# Augment data\n",
    "def augment_data(path, label):\n",
    "    pass\n",
    "\n",
    "# Create train dataset and iterator\n",
    "train_dataset = tf.data.Dataset.from_tensor_slices(train_paths[:12])#, train_labels))\n",
    "train_dataset = train_dataset.shuffle(buffer_size=len(train_paths))\n",
    "train_dataset = train_dataset.map(preprocess_data, \\\n",
    "                      num_parallel_calls = \\\n",
    "                      tf.data.experimental.AUTOTUNE)\n",
    "train_dataset = train_dataset.batch(batch_size)\n",
    "train_iter = train_dataset.make_initializable_iterator()\n",
    "\n",
    "# Create validation dataset and iterator (no shuffling and data augmentation)\n",
    "val_dataset = tf.data.Dataset.from_tensor_slices(val_paths[12:24])#, val_labels))\n",
    "val_dataset = val_dataset.map(preprocess_data, \\\n",
    "                      num_parallel_calls = \\\n",
    "                      tf.data.experimental.AUTOTUNE)\n",
    "val_dataset = val_dataset.batch(batch_size)\n",
    "val_iter = val_dataset.make_initializable_iterator()\n",
    "\n",
    "# Train and validate for several epochs\n",
    "num_epochs = 1\n",
    "with tf.Session() as sess:\n",
    "    sess.run(tf.global_variables_initializer())\n",
    "    \n",
    "    for epoch in range(num_epochs):\n",
    "        print('epoch = ', epoch)\n",
    "        # Training\n",
    "        sess.run(train_iter.initializer)\n",
    "        print('Training')\n",
    "        while 1:\n",
    "            try:\n",
    "                x_train = sess.run(train_iter.get_next())\n",
    "                print(x_train.shape)#, y_train.shape)\n",
    "            except tf.errors.OutOfRangeError:\n",
    "                break\n",
    "\n",
    "        # Validation\n",
    "        sess.run(val_iter.initializer)\n",
    "        print('Validation')\n",
    "        while 1:\n",
    "            try:\n",
    "                x_val = sess.run(val_iter.get_next())\n",
    "                print(x_val.shape)#, y_val.shape)\n",
    "            except tf.errors.OutOfRangeError:\n",
    "                break"
   ]
  },
  {
   "cell_type": "code",
   "execution_count": null,
   "metadata": {
    "collapsed": true
   },
   "outputs": [],
   "source": [
    "# Get summaries and display in tensorboard"
   ]
  }
 ],
 "metadata": {
  "kernelspec": {
   "display_name": "Python 2",
   "language": "python",
   "name": "python2"
  },
  "language_info": {
   "codemirror_mode": {
    "name": "ipython",
    "version": 2
   },
   "file_extension": ".py",
   "mimetype": "text/x-python",
   "name": "python",
   "nbconvert_exporter": "python",
   "pygments_lexer": "ipython2",
   "version": "2.7.14"
  }
 },
 "nbformat": 4,
 "nbformat_minor": 2
}
