{
 "cells": [
  {
   "cell_type": "code",
   "execution_count": 1,
   "metadata": {},
   "outputs": [
    {
     "data": {
      "text/plain": [
       "'1.13.1'"
      ]
     },
     "execution_count": 1,
     "metadata": {},
     "output_type": "execute_result"
    }
   ],
   "source": [
    "from glob import glob\n",
    "import os\n",
    "import matplotlib.pyplot as plt\n",
    "import cv2\n",
    "from time import time\n",
    "\n",
    "import tensorflow as tf\n",
    "# tf.enable_eager_execution()\n",
    "tf.VERSION"
   ]
  },
  {
   "cell_type": "markdown",
   "metadata": {},
   "source": [
    "### Get data: train/val paths/labels"
   ]
  },
  {
   "cell_type": "code",
   "execution_count": 2,
   "metadata": {},
   "outputs": [
    {
     "name": "stdout",
     "output_type": "stream",
     "text": [
      "('Train data : ', 40000, 40000, 9, 0)\n",
      "(['../data/cifar10/21931_8.jpg', '../data/cifar10/14051_4.jpg', '../data/cifar10/16503_4.jpg'], [8, 4, 4])\n",
      "\n",
      "\n",
      "('Validation data : ', 10000, 10000, 9, 0)\n",
      "(['../data/cifar10/30143_6.jpg', '../data/cifar10/48240_5.jpg', '../data/cifar10/36076_9.jpg'], [6, 5, 9])\n",
      "\n",
      "\n",
      "(32, 32, 3)\n"
     ]
    },
    {
     "data": {
      "image/png": "[encoded data removed]",
      "text/plain": [
       "<matplotlib.figure.Figure at 0x7f1002859f50>"
      ]
     },
     "metadata": {},
     "output_type": "display_data"
    }
   ],
   "source": [
    "import numpy as np\n",
    "\n",
    "src_dir = '../data/cifar10/'\n",
    "img_paths = glob(src_dir + '*.jpg')\n",
    "N = len(img_paths)\n",
    "\n",
    "idx = np.arange(N)\n",
    "np.random.shuffle(idx)\n",
    "num_train = int(0.8*N)\n",
    "train_paths = [img_paths[idx[i]] for i in range(num_train)]\n",
    "val_paths = [img_paths[idx[num_train + i]] for i in range(N - num_train)]\n",
    "\n",
    "train_labels = []\n",
    "for path in train_paths:\n",
    "    name = os.path.basename(path)\n",
    "    train_labels.append(int(name[name.find('_')+1:-4]))\n",
    "print('Train data : ', len(train_paths), len(train_labels), max(train_labels), min(train_labels))\n",
    "print(train_paths[:3], train_labels[:3])\n",
    "print('\\n')\n",
    "\n",
    "\n",
    "val_labels = []\n",
    "for path in val_paths:\n",
    "    name = os.path.basename(path)\n",
    "    val_labels.append(int(name[name.find('_')+1:-4]))\n",
    "print('Validation data : ', len(val_paths), len(val_labels), max(val_labels), min(val_labels))\n",
    "print(val_paths[:3], val_labels[:3])\n",
    "print('\\n')\n",
    "\n",
    "# Display an image\n",
    "img = cv2.imread(val_paths[1])\n",
    "print(img.shape)\n",
    "plt.imshow(img)\n",
    "plt.show()"
   ]
  },
  {
   "cell_type": "markdown",
   "metadata": {},
   "source": [
    "### Data generators"
   ]
  },
  {
   "cell_type": "code",
   "execution_count": 3,
   "metadata": {},
   "outputs": [
    {
     "name": "stdout",
     "output_type": "stream",
     "text": [
      "\n",
      "WARNING: The TensorFlow contrib module will not be included in TensorFlow 2.0.\n",
      "For more information, please see:\n",
      "  * https://github.com/tensorflow/community/blob/master/rfcs/20180907-contrib-sunset.md\n",
      "  * https://github.com/tensorflow/addons\n",
      "If you depend on functionality not listed there, please file an issue.\n",
      "\n",
      "WARNING:tensorflow:From /home/surya/anaconda2/lib/python2.7/site-packages/tensorflow/python/data/ops/dataset_ops.py:1419: colocate_with (from tensorflow.python.framework.ops) is deprecated and will be removed in a future version.\n",
      "Instructions for updating:\n",
      "Colocations handled automatically by placer.\n",
      "((32, 32, 32, 3), (32,))\n",
      "((32, 32, 32, 3), (32,))\n"
     ]
    },
    {
     "data": {
      "image/png": "[encoded data removed]",
      "text/plain": [
       "<matplotlib.figure.Figure at 0x7f0fe79db790>"
      ]
     },
     "metadata": {},
     "output_type": "display_data"
    }
   ],
   "source": [
    "# Preprocess data\n",
    "def parse_fn(path, label):\n",
    "    img = tf.read_file(path)\n",
    "    img = tf.image.decode_jpeg(img, channels = 3)\n",
    "    img = tf.image.resize_images(img, [32, 32])\n",
    "    img = img/255.0\n",
    "    return img, label\n",
    "\n",
    "# Augment data (translate and rotate)\n",
    "def augment_fn(img, label):\n",
    "    img_tx = tf.contrib.image.rotate(img, \\\n",
    "            angles = tf.random_uniform(shape=[], minval=-10, maxval=10))\n",
    "    img_tx = tf.contrib.image.translate(img_tx, \\\n",
    "            translations = [tf.random_uniform(shape=[], minval=-10, maxval=10), \\\n",
    "                           tf.random_uniform(shape=[], minval=-10, maxval=10)])\n",
    "    return img_tx, label\n",
    "\n",
    "# Train Data\n",
    "train_data = (\n",
    "    tf.data.Dataset.from_tensor_slices((train_paths, train_labels))\n",
    "    .shuffle(buffer_size=len(train_paths))\n",
    "    .map(parse_fn, num_parallel_calls = 4)\n",
    "    .map(augment_fn, num_parallel_calls = 4)\n",
    "    .batch(32)\n",
    "    .prefetch(1)\n",
    ")\n",
    "train_iter = train_data.make_initializable_iterator()\n",
    "train_next = train_iter.get_next()\n",
    "\n",
    "# Validation data\n",
    "val_data = (\n",
    "    tf.data.Dataset.from_tensor_slices((val_paths, val_labels))\n",
    "    .map(parse_fn, num_parallel_calls = 4)\n",
    "    .batch(32)\n",
    "    .prefetch(1)\n",
    ")\n",
    "val_iter = val_data.make_initializable_iterator()\n",
    "val_next = val_iter.get_next()\n",
    "\n",
    "# Verify iterators\n",
    "num_epochs = 1\n",
    "with tf.Session() as sess:\n",
    "    sess.run(tf.global_variables_initializer())        \n",
    "    \n",
    "    sess.run(train_iter.initializer)\n",
    "    x_train, y_train = sess.run(train_next)\n",
    "    print(x_train.shape, y_train.shape)\n",
    "    \n",
    "    sess.run(val_iter.initializer)\n",
    "    x_val, y_val = sess.run(val_iter.get_next())\n",
    "    print(x_val.shape, y_val.shape)\n",
    "    \n",
    "img = x_train[0]\n",
    "plt.imshow(img)\n",
    "plt.show()"
   ]
  },
  {
   "cell_type": "markdown",
   "metadata": {},
   "source": [
    "# Model"
   ]
  },
  {
   "cell_type": "code",
   "execution_count": 4,
   "metadata": {
    "collapsed": true
   },
   "outputs": [],
   "source": [
    "import tensorflow.keras as K\n",
    "import tensorflow.keras.layers as layers\n",
    "\n",
    "def conv2d_block(x, filters, kernel_size = (3,3), \\\n",
    "        padding='same', activation = 'relu', \\\n",
    "        batchnorm=True, pool = True, dropout = 0.25, name=None):\n",
    "    x = layers.Conv2D(filters=filters, kernel_size=kernel_size, \\\n",
    "            padding=padding, activation=activation, name=name+'_conv')(x)\n",
    "    x = layers.BatchNormalization(name=name+'_bn')(x) if batchnorm else x\n",
    "    x = layers.MaxPool2D(2, 2, name=name+'_pool')(x) if pool else x\n",
    "    x = layers.Dropout(rate = dropout, name=name+'_dp')(x)\n",
    "    return x\n",
    "\n",
    "def fc_block(x, units, activation = 'relu', dropout=0.25, name=None):\n",
    "    x = layers.Dense(units, activation, name=name+'_dense')(x)\n",
    "    x = layers.Dropout(rate = dropout, name=name+'_dp')(x)\n",
    "    return x\n",
    "\n",
    "def smallCNN(x, num_classes=10):\n",
    "    x = conv2d_block(x, 32, pool=False, dropout=0, name='conv_block1')\n",
    "    x = conv2d_block(x, 32, pool=True, dropout=0.25, name='conv_block2')\n",
    "    x = conv2d_block(x, 64, pool=False, dropout=0, name='conv_block3')\n",
    "    x = conv2d_block(x, 64, pool=True, dropout=0.25, name='conv_block4')\n",
    "    x = layers.Flatten(name='flat')(x)\n",
    "    x = fc_block(x, 512, dropout=0.5, name='fc1')\n",
    "    x = fc_block(x, num_classes, 'linear', name='fc2')\n",
    "    return x"
   ]
  },
  {
   "cell_type": "markdown",
   "metadata": {},
   "source": [
    "### Train the model"
   ]
  },
  {
   "cell_type": "code",
   "execution_count": 11,
   "metadata": {},
   "outputs": [],
   "source": [
    "x = tf.placeholder(tf.float32, [None, 32, 32, 3])\n",
    "y = tf.placeholder(tf.int32, [None])\n",
    "y_pred = smallCNN(x)\n",
    "loss = tf.reduce_mean(tf.nn.sparse_softmax_cross_entropy_with_logits(labels=y, logits=y_pred))\n",
    "optimizer = tf.train.AdamOptimizer().minimize(loss)\n",
    "\n",
    "# summ_hist = tf.summary.histogram('Weight hist', tf.get_variable('conv2d/kernel:0'))\n",
    "wt = [v for v in tf.global_variables() if v.name == \"conv_block1_conv/kernel:0\"][0]\n",
    "summ_hist = tf.summary.histogram('Weight_hist', wt)\n",
    "\n",
    "num_epochs = 1\n",
    "with tf.Session() as sess:\n",
    "    writer = tf.summary.FileWriter('logs', sess.graph)\n",
    "    sess.run(tf.global_variables_initializer())\n",
    "    a = tf.get_collection(tf.GraphKeys.TRAINABLE_VARIABLES)\n",
    "    wt1 = [v for v in tf.global_variables() if v.name == \"conv_block1_conv/kernel:0\"][0]    \n",
    "    print(wt1.shape)\n",
    "    \n",
    "#     print(len(a))\n",
    "#     for i in range(len(a)):\n",
    "#         print(a[i])\n",
    "    \n",
    "#     for epoch in range(num_epochs):\n",
    "#         sess.run(train_iter.initializer)\n",
    "#         while True:\n",
    "#             try:\n",
    "#                 x_batch, y_batch = sess.run(train_next)\n",
    "#                 _, loss_val, summ = sess.run([optimizer, loss, summ_hist], feed_dict={x:x_batch, y:y_batch})                \n",
    "#                 writer.add_summary(summ)\n",
    "#                 print(loss_val)\n",
    "#                 break\n",
    "#             except tf.errors.OutOfRangeError:\n",
    "#                 break\n",
    "            \n",
    "        "
   ]
  }
 ],
 "metadata": {
  "kernelspec": {
   "display_name": "Python 2",
   "language": "python",
   "name": "python2"
  },
  "language_info": {
   "codemirror_mode": {
    "name": "ipython",
    "version": 2
   },
   "file_extension": ".py",
   "mimetype": "text/x-python",
   "name": "python",
   "nbconvert_exporter": "python",
   "pygments_lexer": "ipython2",
   "version": "2.7.14"
  }
 },
 "nbformat": 4,
 "nbformat_minor": 2
}
