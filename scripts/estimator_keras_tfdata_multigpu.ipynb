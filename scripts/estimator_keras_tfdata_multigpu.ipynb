{
 "cells": [
  {
   "cell_type": "code",
   "execution_count": 1,
   "metadata": {},
   "outputs": [
    {
     "data": {
      "text/plain": [
       "'1.13.1'"
      ]
     },
     "execution_count": 1,
     "metadata": {},
     "output_type": "execute_result"
    }
   ],
   "source": [
    "from glob import glob\n",
    "import os\n",
    "import matplotlib.pyplot as plt\n",
    "import cv2\n",
    "from time import time\n",
    "\n",
    "import tensorflow as tf\n",
    "tf.reset_default_graph()\n",
    "# tf.enable_eager_execution()\n",
    "tf.VERSION"
   ]
  },
  {
   "cell_type": "markdown",
   "metadata": {},
   "source": [
    "### Load Data"
   ]
  },
  {
   "cell_type": "code",
   "execution_count": 2,
   "metadata": {},
   "outputs": [
    {
     "name": "stdout",
     "output_type": "stream",
     "text": [
      "('Train data : ', 40000, 40000, 9, 0)\n",
      "(['../data/cifar10/23681_8.jpg', '../data/cifar10/49252_4.jpg', '../data/cifar10/38347_1.jpg'], [8, 4, 1])\n",
      "\n",
      "\n",
      "('Validation data : ', 10000, 10000, 9, 0)\n",
      "(['../data/cifar10/12385_9.jpg', '../data/cifar10/20257_0.jpg', '../data/cifar10/37042_8.jpg'], [9, 0, 8])\n",
      "\n",
      "\n",
      "(32, 32, 3)\n"
     ]
    },
    {
     "data": {
      "image/png": "[encoded data removed]",
      "text/plain": [
       "<matplotlib.figure.Figure at 0x7fe708c1cfd0>"
      ]
     },
     "metadata": {},
     "output_type": "display_data"
    }
   ],
   "source": [
    "import numpy as np\n",
    "\n",
    "src_dir = '../data/cifar10/'\n",
    "img_paths = glob(src_dir + '*.jpg')\n",
    "N = len(img_paths)\n",
    "\n",
    "idx = np.arange(N)\n",
    "np.random.shuffle(idx)\n",
    "num_train = int(0.8*N)\n",
    "train_paths = [img_paths[idx[i]] for i in range(num_train)]\n",
    "val_paths = [img_paths[idx[num_train + i]] for i in range(N - num_train)]\n",
    "\n",
    "train_labels = []\n",
    "for path in train_paths:\n",
    "    name = os.path.basename(path)\n",
    "    train_labels.append(int(name[name.find('_')+1:-4]))\n",
    "print('Train data : ', len(train_paths), len(train_labels), max(train_labels), min(train_labels))\n",
    "print(train_paths[:3], train_labels[:3])\n",
    "print('\\n')\n",
    "\n",
    "\n",
    "val_labels = []\n",
    "for path in val_paths:\n",
    "    name = os.path.basename(path)\n",
    "    val_labels.append(int(name[name.find('_')+1:-4]))\n",
    "print('Validation data : ', len(val_paths), len(val_labels), max(val_labels), min(val_labels))\n",
    "print(val_paths[:3], val_labels[:3])\n",
    "print('\\n')\n",
    "\n",
    "# Display an image\n",
    "img = cv2.imread(val_paths[1])\n",
    "print(img.shape)\n",
    "plt.imshow(img)\n",
    "plt.show()"
   ]
  },
  {
   "cell_type": "markdown",
   "metadata": {},
   "source": [
    "### Model "
   ]
  },
  {
   "cell_type": "code",
   "execution_count": 3,
   "metadata": {
    "collapsed": true
   },
   "outputs": [],
   "source": [
    "import tensorflow.keras as K\n",
    "import tensorflow.keras.layers as layers\n",
    "\n",
    "def conv2d_block(x, filters, kernel_size = (3,3), \\\n",
    "        padding='same', activation = 'relu', \\\n",
    "        batchnorm=True, pool = True, dropout = 0.25):\n",
    "    x = layers.Conv2D(filters=filters, kernel_size=kernel_size, \\\n",
    "            padding=padding, activation=activation)(x)\n",
    "    x = layers.BatchNormalization()(x) if batchnorm else x\n",
    "    x = layers.MaxPool2D(2, 2)(x) if pool else x\n",
    "    x = layers.Dropout(rate = dropout)(x)\n",
    "    return x\n",
    "\n",
    "def fc_block(x, units, activation = 'relu', dropout=0.25):\n",
    "    x = layers.Dense(units, activation)(x)\n",
    "    x = layers.Dropout(rate = dropout)(x)\n",
    "    return x\n",
    "\n",
    "def smallCNN(x, num_classes=10):\n",
    "    x = conv2d_block(x, 32, pool=False, dropout=0)\n",
    "    x = conv2d_block(x, 32, pool=True, dropout=0.25)\n",
    "    x = conv2d_block(x, 64, pool=False, dropout=0)\n",
    "    x = conv2d_block(x, 64, pool=True, dropout=0.25)\n",
    "    x = layers.Flatten()(x)\n",
    "    x = fc_block(x, 512, dropout=0.5)\n",
    "    x = fc_block(x, num_classes, 'softmax')\n",
    "    return x"
   ]
  },
  {
   "cell_type": "markdown",
   "metadata": {},
   "source": [
    "### Create Estimator from the model"
   ]
  },
  {
   "cell_type": "code",
   "execution_count": 10,
   "metadata": {},
   "outputs": [
    {
     "name": "stdout",
     "output_type": "stream",
     "text": [
      "INFO:tensorflow:Using the Keras model provided.\n",
      "INFO:tensorflow:Using config: {'_save_checkpoints_secs': 600, '_num_ps_replicas': 0, '_keep_checkpoint_max': 5, '_task_type': 'worker', '_global_id_in_cluster': 0, '_is_chief': True, '_cluster_spec': <tensorflow.python.training.server_lib.ClusterSpec object at 0x7fe65eeb1f50>, '_model_dir': 'est_model2', '_protocol': None, '_save_checkpoints_steps': None, '_keep_checkpoint_every_n_hours': 10000, '_service': None, '_session_config': allow_soft_placement: true\n",
      "graph_options {\n",
      "  rewrite_options {\n",
      "    meta_optimizer_iterations: ONE\n",
      "  }\n",
      "}\n",
      ", '_tf_random_seed': None, '_save_summary_steps': 2, '_device_fn': None, '_experimental_distribute': None, '_num_worker_replicas': 1, '_task_id': 0, '_log_step_count_steps': 1, '_evaluation_master': '', '_eval_distribute': None, '_train_distribute': None, '_master': ''}\n"
     ]
    }
   ],
   "source": [
    "def get_loss(name):\n",
    "    if name == 'categorical_crossentropy':\n",
    "        loss = tf.nn.sparse_softmax_cross_entropy_with_logits(\n",
    "                labels = y, logits = y_pred)\n",
    "        loss = tf.reduce_mean(loss)\n",
    "    return loss\n",
    "\n",
    "x = tf.keras.Input(shape=(32, 32, 3))\n",
    "y_pred = smallCNN(x)\n",
    "loss = tf.keras.losses.categorical_crossentropy\n",
    "# loss = lambda y, y_pred: get_loss('categorical_crossentropy', y, y_pred)\n",
    "optimizer = tf.train.AdamOptimizer()\n",
    "model = tf.keras.Model(inputs=x, outputs=y_pred)\n",
    "model.compile(loss=loss, optimizer=optimizer, metrics=['accuracy'])\n",
    "estimator = tf.keras.estimator.model_to_estimator(model, model_dir = 'est_model2', \\\n",
    "                                                config=tf.estimator.RunConfig(save_summary_steps=2,\\\n",
    "                                                                             log_step_count_steps=1))"
   ]
  },
  {
   "cell_type": "markdown",
   "metadata": {},
   "source": [
    "### Create datagen for estimator"
   ]
  },
  {
   "cell_type": "code",
   "execution_count": 5,
   "metadata": {
    "collapsed": true
   },
   "outputs": [],
   "source": [
    "# Preprocess data\n",
    "def preprocess_data(path, label):\n",
    "    img = tf.read_file(path)\n",
    "    img = tf.image.decode_jpeg(img, channels = 3)\n",
    "    img = tf.image.resize_images(img, [32, 32])\n",
    "    img = img/255.0\n",
    "    label = tf.one_hot(label, 10)\n",
    "    return img, label\n",
    "\n",
    "# Augment data (translate and rotate)\n",
    "def augment_data(img, label):\n",
    "    img_tx = tf.contrib.image.rotate(img, \\\n",
    "            angles = tf.random_uniform(shape=[], minval=-10, maxval=10))\n",
    "    img_tx = tf.contrib.image.translate(img_tx, \\\n",
    "            translations = [tf.random_uniform(shape=[], minval=-10, maxval=10), \\\n",
    "                           tf.random_uniform(shape=[], minval=-10, maxval=10)])\n",
    "    return img_tx, label\n",
    "\n",
    "def input_fn(img_paths, labels, epochs, batch_size, shuffle=False, augment=False):\n",
    "    dataset = tf.data.Dataset.from_tensor_slices((img_paths, labels))\n",
    "    if shuffle:\n",
    "        dataset = dataset.shuffle(len(img_paths))\n",
    "    dataset = dataset.map(preprocess_data)\n",
    "    if augment:\n",
    "        dataset = dataset.map(augment_data)\n",
    "    dataset = dataset.repeat(epochs).batch(batch_size)\n",
    "    dataset = dataset.prefetch(None)\n",
    "    return dataset"
   ]
  },
  {
   "cell_type": "markdown",
   "metadata": {},
   "source": [
    "### SessionRun hooks: Time History Hook"
   ]
  },
  {
   "cell_type": "code",
   "execution_count": 6,
   "metadata": {
    "collapsed": true
   },
   "outputs": [],
   "source": [
    "import time\n",
    "\n",
    "class TimeHistory(tf.train.SessionRunHook):\n",
    "    def begin(self):\n",
    "        self.times = []\n",
    "\n",
    "    def before_run(self, run_context):\n",
    "        self.iter_time_start = time.time()\n",
    "\n",
    "    def after_run(self, run_context, run_values):\n",
    "        self.times.append(time.time() - self.iter_time_start)"
   ]
  },
  {
   "cell_type": "markdown",
   "metadata": {},
   "source": [
    "### Train the estimator"
   ]
  },
  {
   "cell_type": "code",
   "execution_count": 11,
   "metadata": {},
   "outputs": [
    {
     "name": "stdout",
     "output_type": "stream",
     "text": [
      "INFO:tensorflow:Calling model_fn.\n",
      "INFO:tensorflow:Done calling model_fn.\n",
      "INFO:tensorflow:Warm-starting with WarmStartSettings: WarmStartSettings(ckpt_to_initialize_from='est_model2/keras/keras_model.ckpt', vars_to_warm_start='.*', var_name_to_vocab_info={}, var_name_to_prev_var_name={})\n",
      "INFO:tensorflow:Warm-starting from: ('est_model2/keras/keras_model.ckpt',)\n",
      "INFO:tensorflow:Warm-starting variable: batch_normalization_v1_5/beta; prev_var_name: Unchanged\n",
      "INFO:tensorflow:Warm-starting variable: batch_normalization_v1_4/gamma; prev_var_name: Unchanged\n",
      "INFO:tensorflow:Warm-starting variable: batch_normalization_v1_7/beta; prev_var_name: Unchanged\n",
      "INFO:tensorflow:Warm-starting variable: dense_2/bias; prev_var_name: Unchanged\n",
      "INFO:tensorflow:Warm-starting variable: batch_normalization_v1_4/beta; prev_var_name: Unchanged\n",
      "INFO:tensorflow:Warm-starting variable: batch_normalization_v1_5/gamma; prev_var_name: Unchanged\n",
      "INFO:tensorflow:Warm-starting variable: conv2d_4/kernel; prev_var_name: Unchanged\n",
      "INFO:tensorflow:Warm-starting variable: dense_3/bias; prev_var_name: Unchanged\n",
      "INFO:tensorflow:Warm-starting variable: conv2d_6/bias; prev_var_name: Unchanged\n",
      "INFO:tensorflow:Warm-starting variable: conv2d_7/bias; prev_var_name: Unchanged\n",
      "INFO:tensorflow:Warm-starting variable: batch_normalization_v1_7/gamma; prev_var_name: Unchanged\n",
      "INFO:tensorflow:Warm-starting variable: batch_normalization_v1_6/gamma; prev_var_name: Unchanged\n",
      "INFO:tensorflow:Warm-starting variable: conv2d_6/kernel; prev_var_name: Unchanged\n",
      "INFO:tensorflow:Warm-starting variable: conv2d_5/bias; prev_var_name: Unchanged\n",
      "INFO:tensorflow:Warm-starting variable: dense_2/kernel; prev_var_name: Unchanged\n",
      "INFO:tensorflow:Warm-starting variable: dense_3/kernel; prev_var_name: Unchanged\n",
      "INFO:tensorflow:Warm-starting variable: batch_normalization_v1_6/beta; prev_var_name: Unchanged\n",
      "INFO:tensorflow:Warm-starting variable: conv2d_7/kernel; prev_var_name: Unchanged\n",
      "INFO:tensorflow:Warm-starting variable: conv2d_4/bias; prev_var_name: Unchanged\n",
      "INFO:tensorflow:Warm-starting variable: conv2d_5/kernel; prev_var_name: Unchanged\n",
      "INFO:tensorflow:Create CheckpointSaverHook.\n",
      "INFO:tensorflow:Graph was finalized.\n",
      "INFO:tensorflow:Running local_init_op.\n",
      "INFO:tensorflow:Done running local_init_op.\n",
      "INFO:tensorflow:Saving checkpoints for 0 into est_model2/model.ckpt.\n",
      "INFO:tensorflow:loss = 7.62295, step = 1\n",
      "INFO:tensorflow:global_step/sec: 3.46919\n",
      "INFO:tensorflow:loss = 7.39897, step = 2 (0.289 sec)\n",
      "INFO:tensorflow:global_step/sec: 6.2588\n",
      "INFO:tensorflow:loss = 8.66363, step = 3 (0.160 sec)\n",
      "INFO:tensorflow:global_step/sec: 6.53569\n",
      "INFO:tensorflow:loss = 7.98829, step = 4 (0.153 sec)\n",
      "INFO:tensorflow:global_step/sec: 6.35179\n",
      "INFO:tensorflow:loss = 7.22222, step = 5 (0.158 sec)\n",
      "INFO:tensorflow:global_step/sec: 5.77394\n",
      "INFO:tensorflow:loss = 6.78727, step = 6 (0.173 sec)\n",
      "INFO:tensorflow:global_step/sec: 4.11868\n",
      "INFO:tensorflow:loss = 9.3577, step = 7 (0.244 sec)\n",
      "INFO:tensorflow:global_step/sec: 4.68716\n",
      "INFO:tensorflow:loss = 8.09786, step = 8 (0.213 sec)\n",
      "INFO:tensorflow:global_step/sec: 5.95493\n",
      "INFO:tensorflow:loss = 8.00374, step = 9 (0.168 sec)\n",
      "INFO:tensorflow:global_step/sec: 6.27927\n",
      "INFO:tensorflow:loss = 8.62175, step = 10 (0.159 sec)\n",
      "INFO:tensorflow:global_step/sec: 6.55703\n",
      "INFO:tensorflow:loss = 7.05145, step = 11 (0.153 sec)\n",
      "INFO:tensorflow:global_step/sec: 6.36039\n",
      "INFO:tensorflow:loss = 8.80583, step = 12 (0.157 sec)\n",
      "INFO:tensorflow:global_step/sec: 6.13313\n",
      "INFO:tensorflow:loss = 6.92063, step = 13 (0.163 sec)\n",
      "INFO:tensorflow:global_step/sec: 4.62304\n",
      "INFO:tensorflow:loss = 9.32975, step = 14 (0.216 sec)\n",
      "INFO:tensorflow:global_step/sec: 6.06829\n",
      "INFO:tensorflow:loss = 6.73571, step = 15 (0.165 sec)\n",
      "INFO:tensorflow:global_step/sec: 6.07763\n",
      "INFO:tensorflow:loss = 7.67968, step = 16 (0.164 sec)\n",
      "INFO:tensorflow:global_step/sec: 4.83681\n",
      "INFO:tensorflow:loss = 6.65423, step = 17 (0.207 sec)\n",
      "INFO:tensorflow:global_step/sec: 6.01514\n",
      "INFO:tensorflow:loss = 7.62127, step = 18 (0.166 sec)\n",
      "INFO:tensorflow:global_step/sec: 5.79445\n",
      "INFO:tensorflow:loss = 7.19046, step = 19 (0.173 sec)\n",
      "INFO:tensorflow:global_step/sec: 5.48565\n",
      "INFO:tensorflow:loss = 7.03817, step = 20 (0.183 sec)\n",
      "INFO:tensorflow:global_step/sec: 5.15246\n",
      "INFO:tensorflow:loss = 8.7819, step = 21 (0.196 sec)\n",
      "INFO:tensorflow:global_step/sec: 4.53256\n",
      "INFO:tensorflow:loss = 8.04716, step = 22 (0.218 sec)\n",
      "INFO:tensorflow:global_step/sec: 5.23497\n",
      "INFO:tensorflow:loss = 7.80084, step = 23 (0.192 sec)\n",
      "INFO:tensorflow:global_step/sec: 4.59764\n",
      "INFO:tensorflow:loss = 6.76994, step = 24 (0.217 sec)\n",
      "INFO:tensorflow:global_step/sec: 4.85937\n",
      "INFO:tensorflow:loss = 8.1165, step = 25 (0.205 sec)\n",
      "INFO:tensorflow:global_step/sec: 6.5521\n",
      "INFO:tensorflow:loss = 5.85296, step = 26 (0.152 sec)\n",
      "INFO:tensorflow:global_step/sec: 6.3231\n",
      "INFO:tensorflow:loss = 7.77965, step = 27 (0.159 sec)\n",
      "INFO:tensorflow:global_step/sec: 4.3603\n",
      "INFO:tensorflow:loss = 5.26697, step = 28 (0.229 sec)\n",
      "INFO:tensorflow:global_step/sec: 4.62738\n",
      "INFO:tensorflow:loss = 6.04894, step = 29 (0.216 sec)\n",
      "INFO:tensorflow:global_step/sec: 6.35898\n",
      "INFO:tensorflow:loss = 7.32705, step = 30 (0.157 sec)\n",
      "INFO:tensorflow:global_step/sec: 6.6184\n",
      "INFO:tensorflow:loss = 7.86446, step = 31 (0.151 sec)\n",
      "INFO:tensorflow:global_step/sec: 6.10169\n",
      "INFO:tensorflow:loss = 8.48933, step = 32 (0.164 sec)\n",
      "INFO:tensorflow:global_step/sec: 5.81588\n",
      "INFO:tensorflow:loss = 8.72662, step = 33 (0.172 sec)\n",
      "INFO:tensorflow:global_step/sec: 6.54725\n",
      "INFO:tensorflow:loss = 6.90746, step = 34 (0.153 sec)\n",
      "INFO:tensorflow:global_step/sec: 6.17188\n",
      "INFO:tensorflow:loss = 7.37806, step = 35 (0.162 sec)\n",
      "INFO:tensorflow:global_step/sec: 6.31984\n",
      "INFO:tensorflow:loss = 5.14018, step = 36 (0.158 sec)\n",
      "INFO:tensorflow:global_step/sec: 6.26829\n",
      "INFO:tensorflow:loss = 7.53351, step = 37 (0.160 sec)\n",
      "INFO:tensorflow:global_step/sec: 6.55738\n",
      "INFO:tensorflow:loss = 6.0066, step = 38 (0.152 sec)\n",
      "INFO:tensorflow:global_step/sec: 6.55274\n",
      "INFO:tensorflow:loss = 7.1421, step = 39 (0.153 sec)\n",
      "INFO:tensorflow:global_step/sec: 6.54288\n",
      "INFO:tensorflow:loss = 6.47159, step = 40 (0.153 sec)\n",
      "INFO:tensorflow:global_step/sec: 6.18969\n",
      "INFO:tensorflow:loss = 7.76372, step = 41 (0.161 sec)\n",
      "INFO:tensorflow:global_step/sec: 6.17715\n",
      "INFO:tensorflow:loss = 4.80841, step = 42 (0.162 sec)\n",
      "INFO:tensorflow:global_step/sec: 6.53975\n",
      "INFO:tensorflow:loss = 5.25435, step = 43 (0.153 sec)\n",
      "INFO:tensorflow:global_step/sec: 6.44284\n",
      "INFO:tensorflow:loss = 5.38306, step = 44 (0.155 sec)\n",
      "INFO:tensorflow:global_step/sec: 6.49966\n",
      "INFO:tensorflow:loss = 6.54552, step = 45 (0.154 sec)\n",
      "INFO:tensorflow:global_step/sec: 6.5894\n",
      "INFO:tensorflow:loss = 7.26368, step = 46 (0.151 sec)\n",
      "INFO:tensorflow:global_step/sec: 6.47177\n",
      "INFO:tensorflow:loss = 6.77288, step = 47 (0.155 sec)\n",
      "INFO:tensorflow:global_step/sec: 6.56586\n",
      "INFO:tensorflow:loss = 4.49089, step = 48 (0.152 sec)\n",
      "INFO:tensorflow:global_step/sec: 6.445\n",
      "INFO:tensorflow:loss = 4.69286, step = 49 (0.155 sec)\n",
      "INFO:tensorflow:global_step/sec: 6.61162\n",
      "INFO:tensorflow:loss = 7.01181, step = 50 (0.151 sec)\n",
      "INFO:tensorflow:global_step/sec: 4.54558\n",
      "INFO:tensorflow:loss = 6.01241, step = 51 (0.221 sec)\n",
      "INFO:tensorflow:global_step/sec: 3.82345\n",
      "INFO:tensorflow:loss = 7.34184, step = 52 (0.261 sec)\n",
      "INFO:tensorflow:global_step/sec: 5.64366\n",
      "INFO:tensorflow:loss = 6.105, step = 53 (0.177 sec)\n",
      "INFO:tensorflow:global_step/sec: 5.56882\n",
      "INFO:tensorflow:loss = 6.38229, step = 54 (0.179 sec)\n",
      "INFO:tensorflow:global_step/sec: 3.99124\n",
      "INFO:tensorflow:loss = 6.08437, step = 55 (0.251 sec)\n",
      "INFO:tensorflow:global_step/sec: 3.77072\n",
      "INFO:tensorflow:loss = 6.86984, step = 56 (0.264 sec)\n",
      "INFO:tensorflow:global_step/sec: 5.57836\n",
      "INFO:tensorflow:loss = 5.66585, step = 57 (0.180 sec)\n",
      "INFO:tensorflow:global_step/sec: 6.19947\n",
      "INFO:tensorflow:loss = 3.8578, step = 58 (0.161 sec)\n",
      "INFO:tensorflow:global_step/sec: 6.13855\n",
      "INFO:tensorflow:loss = 6.87449, step = 59 (0.163 sec)\n",
      "INFO:tensorflow:global_step/sec: 5.71174\n",
      "INFO:tensorflow:loss = 7.32373, step = 60 (0.175 sec)\n",
      "INFO:tensorflow:global_step/sec: 6.32171\n",
      "INFO:tensorflow:loss = 5.16692, step = 61 (0.159 sec)\n",
      "INFO:tensorflow:global_step/sec: 6.4068\n",
      "INFO:tensorflow:loss = 5.25432, step = 62 (0.156 sec)\n",
      "INFO:tensorflow:global_step/sec: 10.8804\n",
      "INFO:tensorflow:loss = 5.72144, step = 63 (0.092 sec)\n"
     ]
    },
    {
     "name": "stdout",
     "output_type": "stream",
     "text": [
      "INFO:tensorflow:Saving checkpoints for 63 into est_model2/model.ckpt.\n",
      "INFO:tensorflow:Loss for final step: 5.72144.\n"
     ]
    },
    {
     "data": {
      "text/plain": [
       "<tensorflow_estimator.python.estimator.estimator.Estimator at 0x7fe65eb1e0d0>"
      ]
     },
     "execution_count": 11,
     "metadata": {},
     "output_type": "execute_result"
    }
   ],
   "source": [
    "BATCH_SIZE = 32\n",
    "EPOCHS = 2\n",
    "\n",
    "train_paths = train_paths[:1000]\n",
    "train_labels = train_labels[:1000]\n",
    "train_input = lambda: input_fn(train_paths, train_labels,\n",
    "                              epochs=EPOCHS, batch_size=BATCH_SIZE,\n",
    "                              shuffle=True, augment=True)\n",
    "hook_time = TimeHistory()\n",
    "estimator.train(input_fn = train_input, hooks = [hook_time])"
   ]
  },
  {
   "cell_type": "code",
   "execution_count": 8,
   "metadata": {},
   "outputs": [
    {
     "name": "stdout",
     "output_type": "stream",
     "text": [
      "63\n"
     ]
    }
   ],
   "source": [
    "print(len(hook_time.times))"
   ]
  },
  {
   "cell_type": "code",
   "execution_count": 9,
   "metadata": {},
   "outputs": [
    {
     "name": "stdout",
     "output_type": "stream",
     "text": [
      "INFO:tensorflow:Calling model_fn.\n",
      "INFO:tensorflow:Done calling model_fn.\n",
      "WARNING:tensorflow:From /home/surya/anaconda2/lib/python2.7/site-packages/tensorflow/python/ops/metrics_impl.py:363: to_float (from tensorflow.python.ops.math_ops) is deprecated and will be removed in a future version.\n",
      "Instructions for updating:\n",
      "Use tf.cast instead.\n",
      "INFO:tensorflow:Starting evaluation at 2019-03-24T06:51:34Z\n",
      "INFO:tensorflow:Graph was finalized.\n",
      "WARNING:tensorflow:From /home/surya/anaconda2/lib/python2.7/site-packages/tensorflow/python/training/saver.py:1266: checkpoint_exists (from tensorflow.python.training.checkpoint_management) is deprecated and will be removed in a future version.\n",
      "Instructions for updating:\n",
      "Use standard file APIs to check for files with this prefix.\n",
      "INFO:tensorflow:Restoring parameters from est_model1/model.ckpt-63\n",
      "INFO:tensorflow:Running local_init_op.\n",
      "INFO:tensorflow:Done running local_init_op.\n",
      "INFO:tensorflow:Finished evaluation at 2019-03-24-06:52:03\n",
      "INFO:tensorflow:Saving dict for global step 63: categorical_accuracy = 0.0989, global_step = 63, loss = 4.09097\n",
      "INFO:tensorflow:Saving 'checkpoint_path' summary for global step 63: est_model1/model.ckpt-63\n"
     ]
    },
    {
     "data": {
      "text/plain": [
       "{'categorical_accuracy': 0.098899998, 'global_step': 63, 'loss': 4.090971}"
      ]
     },
     "execution_count": 9,
     "metadata": {},
     "output_type": "execute_result"
    }
   ],
   "source": [
    "estimator.evaluate(lambda:input_fn(val_paths,\n",
    "                                   val_labels,\n",
    "                                   epochs=1,\n",
    "                                   batch_size=64))"
   ]
  }
 ],
 "metadata": {
  "kernelspec": {
   "display_name": "Python 2",
   "language": "python",
   "name": "python2"
  },
  "language_info": {
   "codemirror_mode": {
    "name": "ipython",
    "version": 2
   },
   "file_extension": ".py",
   "mimetype": "text/x-python",
   "name": "python",
   "nbconvert_exporter": "python",
   "pygments_lexer": "ipython2",
   "version": "2.7.14"
  }
 },
 "nbformat": 4,
 "nbformat_minor": 2
}
